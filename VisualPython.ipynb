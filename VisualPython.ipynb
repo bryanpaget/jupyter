{
 "cells": [
  {
   "cell_type": "code",
   "execution_count": 30,
   "id": "f0846eab-a46a-419a-b813-3e783055e2d2",
   "metadata": {
    "execution": {
     "iopub.execute_input": "2023-11-20T16:31:03.665665Z",
     "iopub.status.busy": "2023-11-20T16:31:03.665425Z",
     "iopub.status.idle": "2023-11-20T16:31:05.883178Z",
     "shell.execute_reply": "2023-11-20T16:31:05.882413Z",
     "shell.execute_reply.started": "2023-11-20T16:31:03.665647Z"
    },
    "tags": []
   },
   "outputs": [
    {
     "name": "stdout",
     "output_type": "stream",
     "text": [
      "Looking in indexes: http://jfrog-platform-artifactory.jfrog-system:8081/artifactory/api/pypi/pypi-remote/simple\n",
      "Requirement already satisfied: jupyterlab-visualpython in /opt/conda/lib/python3.11/site-packages (3.0.1)\n"
     ]
    }
   ],
   "source": [
    "! pip install jupyterlab-visualpython"
   ]
  },
  {
   "cell_type": "code",
   "execution_count": 31,
   "id": "721643e5-8630-435d-80b3-ff3b6ca32eef",
   "metadata": {
    "execution": {
     "iopub.execute_input": "2023-11-20T16:31:05.884859Z",
     "iopub.status.busy": "2023-11-20T16:31:05.884683Z",
     "iopub.status.idle": "2023-11-20T16:31:05.902687Z",
     "shell.execute_reply": "2023-11-20T16:31:05.902101Z",
     "shell.execute_reply.started": "2023-11-20T16:31:05.884833Z"
    },
    "tags": []
   },
   "outputs": [
    {
     "ename": "ModuleNotFoundError",
     "evalue": "No module named 'ydata_profiling'",
     "output_type": "error",
     "traceback": [
      "\u001b[0;31m---------------------------------------------------------------------------\u001b[0m",
      "\u001b[0;31mModuleNotFoundError\u001b[0m                       Traceback (most recent call last)",
      "Cell \u001b[0;32mIn[31], line 2\u001b[0m\n\u001b[1;32m      1\u001b[0m \u001b[38;5;28;01mimport\u001b[39;00m \u001b[38;5;21;01mpandas\u001b[39;00m \u001b[38;5;28;01mas\u001b[39;00m \u001b[38;5;21;01mpd\u001b[39;00m\n\u001b[0;32m----> 2\u001b[0m \u001b[38;5;28;01mfrom\u001b[39;00m \u001b[38;5;21;01mydata_profiling\u001b[39;00m\u001b[38;5;21;01m.\u001b[39;00m\u001b[38;5;21;01mutils\u001b[39;00m\u001b[38;5;21;01m.\u001b[39;00m\u001b[38;5;21;01mcache\u001b[39;00m \u001b[38;5;28;01mimport\u001b[39;00m cache_file\n\u001b[1;32m      5\u001b[0m file_name \u001b[38;5;241m=\u001b[39m cache_file(\n\u001b[1;32m      6\u001b[0m     \u001b[38;5;124m\"\u001b[39m\u001b[38;5;124mpokemon.csv\u001b[39m\u001b[38;5;124m\"\u001b[39m,\n\u001b[1;32m      7\u001b[0m     \u001b[38;5;124m\"\u001b[39m\u001b[38;5;124mhttps://raw.githubusercontent.com/bryanpaget/html/main/pokemon.csv\u001b[39m\u001b[38;5;124m\"\u001b[39m\n\u001b[1;32m      8\u001b[0m )\n\u001b[1;32m     10\u001b[0m pokemon_df \u001b[38;5;241m=\u001b[39m pd\u001b[38;5;241m.\u001b[39mread_csv(file_name)\n",
      "\u001b[0;31mModuleNotFoundError\u001b[0m: No module named 'ydata_profiling'"
     ]
    }
   ],
   "source": [
    "import pandas as pd\n",
    "from ydata_profiling.utils.cache import cache_file\n",
    "\n",
    "\n",
    "file_name = cache_file(\n",
    "    \"pokemon.csv\",\n",
    "    \"https://raw.githubusercontent.com/bryanpaget/html/main/pokemon.csv\"\n",
    ")\n",
    "\n",
    "pokemon_df = pd.read_csv(file_name)"
   ]
  },
  {
   "cell_type": "code",
   "execution_count": null,
   "id": "1050043d-bf3d-4355-8de6-5ef201597777",
   "metadata": {},
   "outputs": [],
   "source": []
  }
 ],
 "metadata": {
  "kernelspec": {
   "display_name": "Python 3 (ipykernel)",
   "language": "python",
   "name": "python3"
  },
  "language_info": {
   "codemirror_mode": {
    "name": "ipython",
    "version": 3
   },
   "file_extension": ".py",
   "mimetype": "text/x-python",
   "name": "python",
   "nbconvert_exporter": "python",
   "pygments_lexer": "ipython3",
   "version": "3.11.4"
  }
 },
 "nbformat": 4,
 "nbformat_minor": 5
}
