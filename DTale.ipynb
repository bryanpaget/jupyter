{
 "cells": [
  {
   "cell_type": "code",
   "execution_count": 1,
   "id": "c1a92ee3-40b7-4a8c-b51b-4e007efe6593",
   "metadata": {
    "tags": []
   },
   "outputs": [],
   "source": [
    "%%capture\n",
    "! pip install dtale"
   ]
  },
  {
   "cell_type": "code",
   "execution_count": 6,
   "id": "31bec97e-6100-43ba-b41e-68fb3f837116",
   "metadata": {
    "execution": {
     "iopub.execute_input": "2023-11-20T17:01:33.120955Z",
     "iopub.status.busy": "2023-11-20T17:01:33.120797Z",
     "iopub.status.idle": "2023-11-20T17:01:33.135707Z",
     "shell.execute_reply": "2023-11-20T17:01:33.135255Z",
     "shell.execute_reply.started": "2023-11-20T17:01:33.120930Z"
    },
    "scrolled": false,
    "tags": []
   },
   "outputs": [
    {
     "data": {
      "text/html": [
       "\n",
       "        <iframe\n",
       "            width=\"100%\"\n",
       "            height=\"475\"\n",
       "            src=\"http://DarterPro2019:40000/dtale/iframe/4\"\n",
       "            frameborder=\"0\"\n",
       "            allowfullscreen\n",
       "            \n",
       "        ></iframe>\n",
       "        "
      ],
      "text/plain": [
       "<IPython.lib.display.IFrame at 0x7f5e0b7d3fa0>"
      ]
     },
     "metadata": {},
     "output_type": "display_data"
    },
    {
     "data": {
      "text/plain": []
     },
     "execution_count": 6,
     "metadata": {},
     "output_type": "execute_result"
    },
    {
     "name": "stderr",
     "output_type": "stream",
     "text": [
      "2023-11-20 15:08:05,264 - INFO     - Executing shutdown due to inactivity...\n",
      "2023-11-20 15:08:05,284 - INFO     - Executing shutdown...\n",
      "2023-11-20 15:08:05,287 - INFO     - Not running with the Werkzeug Server, exiting by searching gc for BaseWSGIServer\n"
     ]
    }
   ],
   "source": [
    "import dtale\n",
    "import pandas as pd\n",
    "from ydata_profiling.utils.cache import cache_file\n",
    "\n",
    "\n",
    "file_name = cache_file(\n",
    "    \"pokemon.csv\",\n",
    "    \"https://raw.githubusercontent.com/bryanpaget/html/main/pokemon.csv\"\n",
    ")\n",
    "\n",
    "pokemon_df = pd.read_csv(file_name)\n",
    "\n",
    "# Assigning a reference to a running D-Tale process.\n",
    "dtale.show(pokemon_df)"
   ]
  }
 ],
 "metadata": {
  "kernelspec": {
   "display_name": "Python 3 (ipykernel)",
   "language": "python",
   "name": "python3"
  },
  "language_info": {
   "codemirror_mode": {
    "name": "ipython",
    "version": 3
   },
   "file_extension": ".py",
   "mimetype": "text/x-python",
   "name": "python",
   "nbconvert_exporter": "python",
   "pygments_lexer": "ipython3",
   "version": "3.10.12"
  }
 },
 "nbformat": 4,
 "nbformat_minor": 5
}
