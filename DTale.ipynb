{
 "cells": [
  {
   "cell_type": "code",
   "execution_count": 3,
   "id": "c1a92ee3-40b7-4a8c-b51b-4e007efe6593",
   "metadata": {
    "execution": {
     "iopub.execute_input": "2023-11-20T16:31:21.069720Z",
     "iopub.status.busy": "2023-11-20T16:31:21.069541Z",
     "iopub.status.idle": "2023-11-20T17:01:33.119919Z",
     "shell.execute_reply": "2023-11-20T17:01:33.119321Z",
     "shell.execute_reply.started": "2023-11-20T16:31:21.069704Z"
    },
    "tags": []
   },
   "outputs": [
    {
     "name": "stdout",
     "output_type": "stream",
     "text": [
      "Looking in indexes: http://jfrog-platform-artifactory.jfrog-system:8081/artifactory/api/pypi/pypi-remote/simple\n",
      "Collecting dtale\n",
      "  Using cached http://jfrog-platform-artifactory.jfrog-system:8081/artifactory/api/pypi/pypi-remote/packages/packages/87/d2/d1695b8eabca8d0215f238b0337acab1ed5d57e5f0644c056c6a68ad169d/dtale-3.7.0-py2.py3-none-any.whl (14.2 MB)\n",
      "Collecting dash-colorscales (from dtale)\n",
      "  Using cached http://jfrog-platform-artifactory.jfrog-system:8081/artifactory/api/pypi/pypi-remote/packages/packages/d5/24/de9318acd52989d77135a8497c8be536442b725473684ed4e1ab999b2051/dash_colorscales-0.0.4.tar.gz (62 kB)\n",
      "  Preparing metadata (setup.py) ... \u001b[?25ldone\n",
      "\u001b[?25hCollecting dash-daq (from dtale)\n",
      "  Using cached http://jfrog-platform-artifactory.jfrog-system:8081/artifactory/api/pypi/pypi-remote/packages/packages/16/c1/9c6adfc3646990965a5b2ca073f579cc9c09d15553fcfcd83aefd1255494/dash_daq-0.5.0.tar.gz (642 kB)\n",
      "  Preparing metadata (setup.py) ... \u001b[?25ldone\n",
      "\u001b[?25hRequirement already satisfied: Flask-Compress in /opt/conda/lib/python3.11/site-packages (from dtale) (1.4.0)\n",
      "Collecting future>=0.14.0 (from dtale)\n",
      "  Using cached http://jfrog-platform-artifactory.jfrog-system:8081/artifactory/api/pypi/pypi-remote/packages/packages/8f/2e/cf6accf7415237d6faeeebdc7832023c90e0282aa16fd3263db0eb4715ec/future-0.18.3.tar.gz (840 kB)\n",
      "  Preparing metadata (setup.py) ... \u001b[?25ldone\n",
      "\u001b[?25hCollecting kaleido (from dtale)\n",
      "  Using cached http://jfrog-platform-artifactory.jfrog-system:8081/artifactory/api/pypi/pypi-remote/packages/packages/ae/b3/a0f0f4faac229b0011d8c4a7ee6da7c2dca0b6fd08039c95920846f23ca4/kaleido-0.2.1-py2.py3-none-manylinux1_x86_64.whl (79.9 MB)\n",
      "Collecting missingno (from dtale)\n",
      "  Using cached http://jfrog-platform-artifactory.jfrog-system:8081/artifactory/api/pypi/pypi-remote/packages/packages/87/22/cd5cf999af21c2f97486622c551ac3d07361ced8125121e907f588ff5f24/missingno-0.5.2-py3-none-any.whl (8.7 kB)\n",
      "Requirement already satisfied: pandas in /opt/conda/lib/python3.11/site-packages (from dtale) (2.0.3)\n",
      "Collecting squarify (from dtale)\n",
      "  Using cached http://jfrog-platform-artifactory.jfrog-system:8081/artifactory/api/pypi/pypi-remote/packages/packages/0b/2b/2e77c35326efec19819cd1d729540d4d235e6c2a3f37658288a363a67da5/squarify-0.4.3-py3-none-any.whl (4.3 kB)\n",
      "Collecting strsimpy (from dtale)\n",
      "  Using cached http://jfrog-platform-artifactory.jfrog-system:8081/artifactory/api/pypi/pypi-remote/packages/packages/fc/90/bd55a4b18f4b75a76e32f444975d2c869d692eb23897d116d47122f88d1a/strsimpy-0.2.1-py3-none-any.whl (45 kB)\n",
      "Requirement already satisfied: six in /opt/conda/lib/python3.11/site-packages (from dtale) (1.16.0)\n",
      "Requirement already satisfied: xlrd in /opt/conda/lib/python3.11/site-packages (from dtale) (2.0.1)\n",
      "Requirement already satisfied: beautifulsoup4 in /opt/conda/lib/python3.11/site-packages (from dtale) (4.12.2)\n",
      "Requirement already satisfied: certifi in /opt/conda/lib/python3.11/site-packages (from dtale) (2023.7.22)\n",
      "Collecting flask-ngrok (from dtale)\n",
      "  Using cached http://jfrog-platform-artifactory.jfrog-system:8081/artifactory/api/pypi/pypi-remote/packages/packages/af/6c/f54cb686ad1129e27d125d182f90f52b32f284e6c8df58c1bae54fa1adbc/flask_ngrok-0.0.25-py3-none-any.whl (3.1 kB)\n",
      "Requirement already satisfied: lz4 in /opt/conda/lib/python3.11/site-packages (from dtale) (4.3.2)\n",
      "Requirement already satisfied: cycler in /opt/conda/lib/python3.11/site-packages (from dtale) (0.11.0)\n",
      "Collecting dash-bootstrap-components<=1.3.1 (from dtale)\n",
      "\u001b[33m  WARNING: Retrying (Retry(total=4, connect=None, read=None, redirect=None, status=None)) after connection broken by 'ReadTimeoutError(\"HTTPConnectionPool(host='jfrog-platform-artifactory.jfrog-system', port=8081): Read timed out. (read timeout=300.0)\")': /artifactory/api/pypi/pypi-remote/packages/packages/81/51/ef076f364c6ecdc6abf8c9aa73c4acd1c44fed523c9a9da20a41ab2fd4d8/dash_bootstrap_components-1.3.1-py3-none-any.whl\u001b[0m\u001b[33m\n",
      "\u001b[0m\u001b[33m  WARNING: Retrying (Retry(total=3, connect=None, read=None, redirect=None, status=None)) after connection broken by 'ReadTimeoutError(\"HTTPConnectionPool(host='jfrog-platform-artifactory.jfrog-system', port=8081): Read timed out. (read timeout=300.0)\")': /artifactory/api/pypi/pypi-remote/packages/packages/81/51/ef076f364c6ecdc6abf8c9aa73c4acd1c44fed523c9a9da20a41ab2fd4d8/dash_bootstrap_components-1.3.1-py3-none-any.whl\u001b[0m\u001b[33m\n",
      "\u001b[0m\u001b[33m  WARNING: Retrying (Retry(total=2, connect=None, read=None, redirect=None, status=None)) after connection broken by 'ReadTimeoutError(\"HTTPConnectionPool(host='jfrog-platform-artifactory.jfrog-system', port=8081): Read timed out. (read timeout=300.0)\")': /artifactory/api/pypi/pypi-remote/packages/packages/81/51/ef076f364c6ecdc6abf8c9aa73c4acd1c44fed523c9a9da20a41ab2fd4d8/dash_bootstrap_components-1.3.1-py3-none-any.whl\u001b[0m\u001b[33m\n",
      "\u001b[0m\u001b[33m  WARNING: Retrying (Retry(total=1, connect=None, read=None, redirect=None, status=None)) after connection broken by 'ReadTimeoutError(\"HTTPConnectionPool(host='jfrog-platform-artifactory.jfrog-system', port=8081): Read timed out. (read timeout=300.0)\")': /artifactory/api/pypi/pypi-remote/packages/packages/81/51/ef076f364c6ecdc6abf8c9aa73c4acd1c44fed523c9a9da20a41ab2fd4d8/dash_bootstrap_components-1.3.1-py3-none-any.whl\u001b[0m\u001b[33m\n",
      "\u001b[0m\u001b[33m  WARNING: Retrying (Retry(total=0, connect=None, read=None, redirect=None, status=None)) after connection broken by 'ReadTimeoutError(\"HTTPConnectionPool(host='jfrog-platform-artifactory.jfrog-system', port=8081): Read timed out. (read timeout=300.0)\")': /artifactory/api/pypi/pypi-remote/packages/packages/81/51/ef076f364c6ecdc6abf8c9aa73c4acd1c44fed523c9a9da20a41ab2fd4d8/dash_bootstrap_components-1.3.1-py3-none-any.whl\u001b[0m\u001b[33m\n",
      "\u001b[0m\u001b[31mERROR: Could not install packages due to an OSError: HTTPConnectionPool(host='jfrog-platform-artifactory.jfrog-system', port=8081): Max retries exceeded with url: /artifactory/api/pypi/pypi-remote/packages/packages/81/51/ef076f364c6ecdc6abf8c9aa73c4acd1c44fed523c9a9da20a41ab2fd4d8/dash_bootstrap_components-1.3.1-py3-none-any.whl (Caused by ReadTimeoutError(\"HTTPConnectionPool(host='jfrog-platform-artifactory.jfrog-system', port=8081): Read timed out. (read timeout=300.0)\"))\n",
      "\u001b[0m\u001b[31m\n",
      "\u001b[0m"
     ]
    }
   ],
   "source": [
    "! pip install dtale"
   ]
  },
  {
   "cell_type": "code",
   "execution_count": 4,
   "id": "31bec97e-6100-43ba-b41e-68fb3f837116",
   "metadata": {
    "execution": {
     "iopub.execute_input": "2023-11-20T17:01:33.120955Z",
     "iopub.status.busy": "2023-11-20T17:01:33.120797Z",
     "iopub.status.idle": "2023-11-20T17:01:33.135707Z",
     "shell.execute_reply": "2023-11-20T17:01:33.135255Z",
     "shell.execute_reply.started": "2023-11-20T17:01:33.120930Z"
    },
    "tags": []
   },
   "outputs": [
    {
     "ename": "ModuleNotFoundError",
     "evalue": "No module named 'dtale'",
     "output_type": "error",
     "traceback": [
      "\u001b[0;31m---------------------------------------------------------------------------\u001b[0m",
      "\u001b[0;31mModuleNotFoundError\u001b[0m                       Traceback (most recent call last)",
      "Cell \u001b[0;32mIn[4], line 1\u001b[0m\n\u001b[0;32m----> 1\u001b[0m \u001b[38;5;28;01mimport\u001b[39;00m \u001b[38;5;21;01mdtale\u001b[39;00m\n\u001b[1;32m      2\u001b[0m \u001b[38;5;28;01mimport\u001b[39;00m \u001b[38;5;21;01mpandas\u001b[39;00m \u001b[38;5;28;01mas\u001b[39;00m \u001b[38;5;21;01mpd\u001b[39;00m\n\u001b[1;32m      3\u001b[0m \u001b[38;5;28;01mfrom\u001b[39;00m \u001b[38;5;21;01mydata_profiling\u001b[39;00m\u001b[38;5;21;01m.\u001b[39;00m\u001b[38;5;21;01mutils\u001b[39;00m\u001b[38;5;21;01m.\u001b[39;00m\u001b[38;5;21;01mcache\u001b[39;00m \u001b[38;5;28;01mimport\u001b[39;00m cache_file\n",
      "\u001b[0;31mModuleNotFoundError\u001b[0m: No module named 'dtale'"
     ]
    }
   ],
   "source": [
    "import dtale\n",
    "import pandas as pd\n",
    "from ydata_profiling.utils.cache import cache_file\n",
    "\n",
    "\n",
    "file_name = cache_file(\n",
    "    \"pokemon.csv\",\n",
    "    \"https://raw.githubusercontent.com/bryanpaget/html/main/pokemon.csv\"\n",
    ")\n",
    "\n",
    "pokemon_df = pd.read_csv(file_name)\n",
    "\n",
    "# Assigning a reference to a running D-Tale process.\n",
    "d = dtale.show(pokemon_df)"
   ]
  },
  {
   "cell_type": "code",
   "execution_count": null,
   "id": "8872438f-8db8-4997-a2db-9ed42826ae7c",
   "metadata": {},
   "outputs": [],
   "source": []
  }
 ],
 "metadata": {
  "kernelspec": {
   "display_name": "Python 3 (ipykernel)",
   "language": "python",
   "name": "python3"
  },
  "language_info": {
   "codemirror_mode": {
    "name": "ipython",
    "version": 3
   },
   "file_extension": ".py",
   "mimetype": "text/x-python",
   "name": "python",
   "nbconvert_exporter": "python",
   "pygments_lexer": "ipython3",
   "version": "3.11.4"
  }
 },
 "nbformat": 4,
 "nbformat_minor": 5
}
