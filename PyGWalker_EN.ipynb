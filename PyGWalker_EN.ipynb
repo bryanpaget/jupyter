{
 "cells": [
  {
   "cell_type": "markdown",
   "id": "b4535707-40cf-422b-8d25-9a916573d89c",
   "metadata": {
    "tags": []
   },
   "source": [
    "# PyGWalker: Simplifying Exploratory Data Analysis with Python\n",
    "\n",
    "Introducing PyGWalker, a Python library designed to streamline your exploratory data analysis (EDA) and visualization tasks within Jupyter Notebooks. Tailored for national statistical workers familiar with Excel and Power BI, PyGWalker transforms your pandas dataframe (and polars dataframe) into an intuitive Tableau-style User Interface, enhancing your data exploration experience.\n",
    "\n",
    "![](pygwalker.png)\n",
    "\n",
    "## What is PyGWalker?\n",
    "\n",
    "PyGWalker, affectionately pronounced as \"Pig Walker,\" is short for \"Python binding of Graphic Walker.\" It seamlessly integrates with Jupyter Notebooks, providing a bridge to Graphic Walker—an open-source alternative to Tableau. This library empowers data scientists to analyze and visualize data effortlessly through straightforward drag-and-drop operations.\n",
    "\n",
    "## Key Features:\n",
    "\n",
    "- **Tableau-Style Interface:** Enjoy a familiar Tableau-style UI for visual exploration without leaving the Jupyter environment.\n",
    "- **Drag-and-Drop Functionality:** Simplify your workflow with intuitive drag-and-drop operations, making data exploration a breeze.\n",
    "- **Conversational UI:** Engage in conversational data exploration through a user-friendly interface.\n",
    "\n",
    "## Installation:\n",
    "\n",
    "To get started with PyGWalker, install the library along with other necessary dependencies using the following command:"
   ]
  },
  {
   "cell_type": "code",
   "execution_count": 4,
   "id": "2ac4a6e0-f7d7-402f-9ad3-64a0f676a4bc",
   "metadata": {
    "tags": []
   },
   "outputs": [],
   "source": [
    "%%capture\n",
    "! pip install -U pygwalker ydata-profiling ipywidgets"
   ]
  },
  {
   "cell_type": "markdown",
   "id": "18762e21-cfb3-45b0-b7a6-61a845afa3ff",
   "metadata": {},
   "source": [
    "## Usage Example:\n",
    "\n",
    "Now, let's dive into a practical example using a dataset. In this case, we'll leverage a Pokémon dataset available online:"
   ]
  },
  {
   "cell_type": "code",
   "execution_count": 5,
   "id": "4342db89-5515-47f0-90a9-9f83a8152ce9",
   "metadata": {
    "tags": []
   },
   "outputs": [
    {
     "data": {
      "application/vnd.jupyter.widget-view+json": {
       "model_id": "94f2590a50994a9e9a58e02b3eff0328",
       "version_major": 2,
       "version_minor": 0
      },
      "text/plain": [
       "Box(children=(HTML(value='<div id=\"ifr-pyg-0\" style=\"height: auto\">\\n    <head>\\n        <meta http-equiv=\"Con…"
      ]
     },
     "metadata": {},
     "output_type": "display_data"
    },
    {
     "data": {
      "text/html": [
       "<html>\n",
       "<style>\n",
       ".tabs{\n",
       "    position:relative;\n",
       "    height:660px;\n",
       "}\n",
       ".tab-pane{\n",
       "    display:inline-block;\n",
       "}\n",
       ".tabs input[type='radio']{\n",
       "    position:absolute;\n",
       "    clip:rect(0,0,0,0)\n",
       "}\n",
       ".tab-item{\n",
       "    display:block;\n",
       "    height:34px;\n",
       "    line-height:34px;\n",
       "    cursor:pointer;\n",
       "    padding:0 10px\n",
       "}\n",
       "\n",
       ".tabs input[type='radio']:checked+.tab-item{\n",
       "    background:#2563eb;\n",
       "    color:#fff\n",
       "}\n",
       "\n",
       ".tab-content{\n",
       "    display: none;\n",
       "    position:absolute;\n",
       "    left:0;\n",
       "    top:56px;\n",
       "    bottom:0;\n",
       "    right:0;\n",
       "}\n",
       "\n",
       ".tabs input[type='radio']:checked+.tab-item+.tab-content{\n",
       "    display: block;\n",
       "}\n",
       "</style>\n",
       "\n",
       "<body>\n",
       "    <div id=\"pygwalker-preview-0\">\n",
       "        <div class=\"tabs\">\n",
       "            \n",
       "        </div>\n",
       "    </div>\n",
       "</body>\n",
       "</html>"
      ],
      "text/plain": [
       "<IPython.core.display.HTML object>"
      ]
     },
     "metadata": {},
     "output_type": "display_data"
    },
    {
     "data": {
      "text/plain": [
       "<pygwalker.api.pygwalker.PygWalker at 0x7ff0ce3b8a30>"
      ]
     },
     "execution_count": 5,
     "metadata": {},
     "output_type": "execute_result"
    }
   ],
   "source": [
    "import pandas as pd\n",
    "import pygwalker as pyg\n",
    "from ydata_profiling.utils.cache import cache_file\n",
    "\n",
    "# Caching the Pokémon dataset from a remote source\n",
    "file_name = cache_file(\n",
    "    \"pokemon.csv\",\n",
    "    \"https://raw.githubusercontent.com/bryanpaget/html/main/pokemon.csv\"\n",
    ")\n",
    "\n",
    "# Reading the dataset into a Pandas DataFrame\n",
    "pokemon_df = pd.read_csv(file_name)\n",
    "\n",
    "# Launching PyGWalker for visual exploration\n",
    "pyg.walk(pokemon_df)"
   ]
  },
  {
   "cell_type": "markdown",
   "id": "5a2d318b-19ba-46b3-b050-b38b91b00ffd",
   "metadata": {},
   "source": [
    " With PyGWalker, effortlessly transform your data into interactive visualization apps using just one line of code. Whether you're accustomed to Excel or Power BI, PyGWalker offers a seamless and efficient solution for exploring and understanding your datasets within the Jupyter Notebook environment."
   ]
  }
 ],
 "metadata": {
  "kernelspec": {
   "display_name": "Python 3 (ipykernel)",
   "language": "python",
   "name": "python3"
  },
  "language_info": {
   "codemirror_mode": {
    "name": "ipython",
    "version": 3
   },
   "file_extension": ".py",
   "mimetype": "text/x-python",
   "name": "python",
   "nbconvert_exporter": "python",
   "pygments_lexer": "ipython3",
   "version": "3.10.12"
  }
 },
 "nbformat": 4,
 "nbformat_minor": 5
}
