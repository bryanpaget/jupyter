{
 "cells": [
  {
   "cell_type": "code",
   "execution_count": 4,
   "id": "02ce9d95-b0e9-4cfb-b185-2d0830fe73db",
   "metadata": {
    "execution": {
     "iopub.execute_input": "2023-11-20T16:31:10.370439Z",
     "iopub.status.busy": "2023-11-20T16:31:10.370267Z",
     "iopub.status.idle": "2023-11-20T16:31:13.388539Z",
     "shell.execute_reply": "2023-11-20T16:31:13.387869Z",
     "shell.execute_reply.started": "2023-11-20T16:31:10.370413Z"
    },
    "tags": []
   },
   "outputs": [
    {
     "name": "stdout",
     "output_type": "stream",
     "text": [
      "Looking in indexes: http://jfrog-platform-artifactory.jfrog-system:8081/artifactory/api/pypi/pypi-remote/simple\n",
      "Requirement already satisfied: autoviz in /opt/conda/lib/python3.11/site-packages (0.1.732)\n",
      "Requirement already satisfied: bokeh~=2.4.2 in /opt/conda/lib/python3.11/site-packages (from autoviz) (2.4.3)\n",
      "Requirement already satisfied: emoji in /opt/conda/lib/python3.11/site-packages (from autoviz) (2.8.0)\n",
      "Requirement already satisfied: fsspec>=0.8.3 in /opt/conda/lib/python3.11/site-packages (from autoviz) (2023.10.0)\n",
      "Requirement already satisfied: holoviews~=1.14.9 in /opt/conda/lib/python3.11/site-packages (from autoviz) (1.14.9)\n",
      "Requirement already satisfied: hvplot~=0.7.3 in /opt/conda/lib/python3.11/site-packages (from autoviz) (0.7.3)\n",
      "Requirement already satisfied: matplotlib>=3.3.3 in /opt/conda/lib/python3.11/site-packages (from autoviz) (3.7.2)\n",
      "Requirement already satisfied: nltk in /opt/conda/lib/python3.11/site-packages (from autoviz) (3.8.1)\n",
      "Requirement already satisfied: numpy in /opt/conda/lib/python3.11/site-packages (from autoviz) (1.24.4)\n",
      "Requirement already satisfied: pandas in /opt/conda/lib/python3.11/site-packages (from autoviz) (2.0.3)\n",
      "Requirement already satisfied: pandas-dq==1.28 in /opt/conda/lib/python3.11/site-packages (from autoviz) (1.28)\n",
      "Requirement already satisfied: panel>=0.12.6 in /opt/conda/lib/python3.11/site-packages (from autoviz) (0.14.4)\n",
      "Requirement already satisfied: pyamg in /opt/conda/lib/python3.11/site-packages (from autoviz) (5.0.1)\n",
      "Requirement already satisfied: scikit-learn in /opt/conda/lib/python3.11/site-packages (from autoviz) (1.3.0)\n",
      "Requirement already satisfied: seaborn>=0.11.1 in /opt/conda/lib/python3.11/site-packages (from autoviz) (0.12.2)\n",
      "Requirement already satisfied: statsmodels in /opt/conda/lib/python3.11/site-packages (from autoviz) (0.14.0)\n",
      "Requirement already satisfied: textblob in /opt/conda/lib/python3.11/site-packages (from autoviz) (0.17.1)\n",
      "Requirement already satisfied: typing-extensions>=4.1.1 in /opt/conda/lib/python3.11/site-packages (from autoviz) (4.7.1)\n",
      "Requirement already satisfied: wordcloud in /opt/conda/lib/python3.11/site-packages (from autoviz) (1.9.2)\n",
      "Requirement already satisfied: xgboost>=0.82 in /opt/conda/lib/python3.11/site-packages (from autoviz) (2.0.2)\n",
      "Requirement already satisfied: xlrd in /opt/conda/lib/python3.11/site-packages (from autoviz) (2.0.1)\n",
      "Requirement already satisfied: Jinja2>=2.9 in /opt/conda/lib/python3.11/site-packages (from bokeh~=2.4.2->autoviz) (3.1.2)\n",
      "Requirement already satisfied: packaging>=16.8 in /opt/conda/lib/python3.11/site-packages (from bokeh~=2.4.2->autoviz) (23.1)\n",
      "Requirement already satisfied: pillow>=7.1.0 in /opt/conda/lib/python3.11/site-packages (from bokeh~=2.4.2->autoviz) (10.0.0)\n",
      "Requirement already satisfied: PyYAML>=3.10 in /opt/conda/lib/python3.11/site-packages (from bokeh~=2.4.2->autoviz) (6.0)\n",
      "Requirement already satisfied: tornado>=5.1 in /opt/conda/lib/python3.11/site-packages (from bokeh~=2.4.2->autoviz) (6.3.2)\n",
      "Requirement already satisfied: param<2.0,>=1.9.3 in /opt/conda/lib/python3.11/site-packages (from holoviews~=1.14.9->autoviz) (1.13.0)\n",
      "Requirement already satisfied: pyviz-comms>=0.7.4 in /opt/conda/lib/python3.11/site-packages (from holoviews~=1.14.9->autoviz) (3.0.0)\n",
      "Requirement already satisfied: colorcet in /opt/conda/lib/python3.11/site-packages (from holoviews~=1.14.9->autoviz) (3.0.1)\n",
      "Requirement already satisfied: contourpy>=1.0.1 in /opt/conda/lib/python3.11/site-packages (from matplotlib>=3.3.3->autoviz) (1.1.0)\n",
      "Requirement already satisfied: cycler>=0.10 in /opt/conda/lib/python3.11/site-packages (from matplotlib>=3.3.3->autoviz) (0.11.0)\n",
      "Requirement already satisfied: fonttools>=4.22.0 in /opt/conda/lib/python3.11/site-packages (from matplotlib>=3.3.3->autoviz) (4.42.0)\n",
      "Requirement already satisfied: kiwisolver>=1.0.1 in /opt/conda/lib/python3.11/site-packages (from matplotlib>=3.3.3->autoviz) (1.4.4)\n",
      "Requirement already satisfied: pyparsing<3.1,>=2.3.1 in /opt/conda/lib/python3.11/site-packages (from matplotlib>=3.3.3->autoviz) (3.0.9)\n",
      "Requirement already satisfied: python-dateutil>=2.7 in /opt/conda/lib/python3.11/site-packages (from matplotlib>=3.3.3->autoviz) (2.8.2)\n",
      "Requirement already satisfied: pytz>=2020.1 in /opt/conda/lib/python3.11/site-packages (from pandas->autoviz) (2023.3)\n",
      "Requirement already satisfied: tzdata>=2022.1 in /opt/conda/lib/python3.11/site-packages (from pandas->autoviz) (2023.3)\n",
      "Requirement already satisfied: markdown in /opt/conda/lib/python3.11/site-packages (from panel>=0.12.6->autoviz) (3.5.1)\n",
      "Requirement already satisfied: requests in /opt/conda/lib/python3.11/site-packages (from panel>=0.12.6->autoviz) (2.31.0)\n",
      "Requirement already satisfied: tqdm>=4.48.0 in /opt/conda/lib/python3.11/site-packages (from panel>=0.12.6->autoviz) (4.65.0)\n",
      "Requirement already satisfied: pyct>=0.4.4 in /opt/conda/lib/python3.11/site-packages (from panel>=0.12.6->autoviz) (0.5.0)\n",
      "Requirement already satisfied: bleach in /opt/conda/lib/python3.11/site-packages (from panel>=0.12.6->autoviz) (6.0.0)\n",
      "Requirement already satisfied: setuptools>=42 in /opt/conda/lib/python3.11/site-packages (from panel>=0.12.6->autoviz) (67.6.0)\n",
      "Requirement already satisfied: scipy>=1.5.0 in /opt/conda/lib/python3.11/site-packages (from scikit-learn->autoviz) (1.11.1)\n",
      "Requirement already satisfied: joblib>=1.1.1 in /opt/conda/lib/python3.11/site-packages (from scikit-learn->autoviz) (1.2.0)\n",
      "Requirement already satisfied: threadpoolctl>=2.0.0 in /opt/conda/lib/python3.11/site-packages (from scikit-learn->autoviz) (3.2.0)\n",
      "Requirement already satisfied: click in /opt/conda/lib/python3.11/site-packages (from nltk->autoviz) (8.1.6)\n",
      "Requirement already satisfied: regex>=2021.8.3 in /opt/conda/lib/python3.11/site-packages (from nltk->autoviz) (2023.10.3)\n",
      "Requirement already satisfied: patsy>=0.5.2 in /opt/conda/lib/python3.11/site-packages (from statsmodels->autoviz) (0.5.3)\n",
      "Requirement already satisfied: MarkupSafe>=2.0 in /opt/conda/lib/python3.11/site-packages (from Jinja2>=2.9->bokeh~=2.4.2->autoviz) (2.1.3)\n",
      "Requirement already satisfied: six in /opt/conda/lib/python3.11/site-packages (from patsy>=0.5.2->statsmodels->autoviz) (1.16.0)\n",
      "Requirement already satisfied: webencodings in /opt/conda/lib/python3.11/site-packages (from bleach->panel>=0.12.6->autoviz) (0.5.1)\n",
      "Requirement already satisfied: charset-normalizer<4,>=2 in /opt/conda/lib/python3.11/site-packages (from requests->panel>=0.12.6->autoviz) (3.2.0)\n",
      "Requirement already satisfied: idna<4,>=2.5 in /opt/conda/lib/python3.11/site-packages (from requests->panel>=0.12.6->autoviz) (3.4)\n",
      "Requirement already satisfied: urllib3<3,>=1.21.1 in /opt/conda/lib/python3.11/site-packages (from requests->panel>=0.12.6->autoviz) (1.26.18)\n",
      "Requirement already satisfied: certifi>=2017.4.17 in /opt/conda/lib/python3.11/site-packages (from requests->panel>=0.12.6->autoviz) (2023.7.22)\n"
     ]
    }
   ],
   "source": [
    "! pip install autoviz"
   ]
  },
  {
   "cell_type": "code",
   "execution_count": 5,
   "id": "5444551d-5519-450f-95e3-003ae8c00497",
   "metadata": {
    "execution": {
     "iopub.execute_input": "2023-11-20T16:31:13.389463Z",
     "iopub.status.busy": "2023-11-20T16:31:13.389317Z",
     "iopub.status.idle": "2023-11-20T16:31:13.409817Z",
     "shell.execute_reply": "2023-11-20T16:31:13.409250Z",
     "shell.execute_reply.started": "2023-11-20T16:31:13.389447Z"
    },
    "tags": []
   },
   "outputs": [
    {
     "ename": "ModuleNotFoundError",
     "evalue": "No module named 'ydata_profiling'",
     "output_type": "error",
     "traceback": [
      "\u001b[0;31m---------------------------------------------------------------------------\u001b[0m",
      "\u001b[0;31mModuleNotFoundError\u001b[0m                       Traceback (most recent call last)",
      "Cell \u001b[0;32mIn[5], line 3\u001b[0m\n\u001b[1;32m      1\u001b[0m \u001b[38;5;28;01mfrom\u001b[39;00m \u001b[38;5;21;01mautoviz\u001b[39;00m \u001b[38;5;28;01mimport\u001b[39;00m AutoViz_Class\n\u001b[1;32m      2\u001b[0m \u001b[38;5;28;01mimport\u001b[39;00m \u001b[38;5;21;01mpandas\u001b[39;00m \u001b[38;5;28;01mas\u001b[39;00m \u001b[38;5;21;01mpd\u001b[39;00m\n\u001b[0;32m----> 3\u001b[0m \u001b[38;5;28;01mfrom\u001b[39;00m \u001b[38;5;21;01mydata_profiling\u001b[39;00m\u001b[38;5;21;01m.\u001b[39;00m\u001b[38;5;21;01mutils\u001b[39;00m\u001b[38;5;21;01m.\u001b[39;00m\u001b[38;5;21;01mcache\u001b[39;00m \u001b[38;5;28;01mimport\u001b[39;00m cache_file\n\u001b[1;32m      6\u001b[0m AV \u001b[38;5;241m=\u001b[39m AutoViz_Class()\n\u001b[1;32m      9\u001b[0m file_name \u001b[38;5;241m=\u001b[39m cache_file(\n\u001b[1;32m     10\u001b[0m     \u001b[38;5;124m\"\u001b[39m\u001b[38;5;124mpokemon.csv\u001b[39m\u001b[38;5;124m\"\u001b[39m,\n\u001b[1;32m     11\u001b[0m     \u001b[38;5;124m\"\u001b[39m\u001b[38;5;124mhttps://raw.githubusercontent.com/bryanpaget/html/main/pokemon.csv\u001b[39m\u001b[38;5;124m\"\u001b[39m\n\u001b[1;32m     12\u001b[0m )\n",
      "\u001b[0;31mModuleNotFoundError\u001b[0m: No module named 'ydata_profiling'"
     ]
    }
   ],
   "source": [
    "from autoviz import AutoViz_Class\n",
    "import pandas as pd\n",
    "from ydata_profiling.utils.cache import cache_file\n",
    "\n",
    "\n",
    "AV = AutoViz_Class()\n",
    "\n",
    "\n",
    "file_name = cache_file(\n",
    "    \"pokemon.csv\",\n",
    "    \"https://raw.githubusercontent.com/bryanpaget/html/main/pokemon.csv\"\n",
    ")\n",
    "\n",
    "pokemon_df = pd.read_csv(file_name)\n",
    "dft = AV.AutoViz(pokemon_df)"
   ]
  },
  {
   "cell_type": "code",
   "execution_count": null,
   "id": "8e89f2b5-8bf0-489e-b6af-efa11b5cb273",
   "metadata": {},
   "outputs": [],
   "source": []
  }
 ],
 "metadata": {
  "kernelspec": {
   "display_name": "Python 3 (ipykernel)",
   "language": "python",
   "name": "python3"
  },
  "language_info": {
   "codemirror_mode": {
    "name": "ipython",
    "version": 3
   },
   "file_extension": ".py",
   "mimetype": "text/x-python",
   "name": "python",
   "nbconvert_exporter": "python",
   "pygments_lexer": "ipython3",
   "version": "3.11.4"
  }
 },
 "nbformat": 4,
 "nbformat_minor": 5
}
