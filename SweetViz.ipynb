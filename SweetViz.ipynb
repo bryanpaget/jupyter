{
 "cells": [
  {
   "cell_type": "code",
   "execution_count": null,
   "id": "15583324-4dd7-4626-9fdb-5df65a89f676",
   "metadata": {
    "execution": {
     "iopub.execute_input": "2023-11-20T16:30:58.644873Z",
     "iopub.status.busy": "2023-11-20T16:30:58.644655Z"
    },
    "tags": []
   },
   "outputs": [
    {
     "name": "stdout",
     "output_type": "stream",
     "text": [
      "Looking in indexes: http://jfrog-platform-artifactory.jfrog-system:8081/artifactory/api/pypi/pypi-remote/simple\n",
      "Collecting sweetviz\n",
      "  Using cached http://jfrog-platform-artifactory.jfrog-system:8081/artifactory/api/pypi/pypi-remote/packages/packages/27/11/27591a5856ac8d08a97c4b13e19548a05c09d0142137323fb901432cc983/sweetviz-2.3.0-py3-none-any.whl (15.1 MB)\n",
      "Collecting ydata-profiling\n",
      "  Using cached http://jfrog-platform-artifactory.jfrog-system:8081/artifactory/api/pypi/pypi-remote/packages/packages/5a/14/a19d2266adf443d441be74d65e4ac12ba252c806ccf7ffdb59c7443bd846/ydata_profiling-4.6.1-py2.py3-none-any.whl (357 kB)\n",
      "Requirement already satisfied: pandas!=1.0.0,!=1.0.1,!=1.0.2,>=0.25.3 in /opt/conda/lib/python3.11/site-packages (from sweetviz) (2.0.3)\n",
      "Requirement already satisfied: numpy>=1.16.0 in /opt/conda/lib/python3.11/site-packages (from sweetviz) (1.24.4)\n",
      "Requirement already satisfied: matplotlib>=3.1.3 in /opt/conda/lib/python3.11/site-packages (from sweetviz) (3.7.2)\n",
      "Requirement already satisfied: tqdm>=4.43.0 in /opt/conda/lib/python3.11/site-packages (from sweetviz) (4.65.0)\n",
      "Requirement already satisfied: scipy>=1.3.2 in /opt/conda/lib/python3.11/site-packages (from sweetviz) (1.11.1)\n",
      "Requirement already satisfied: jinja2>=2.11.1 in /opt/conda/lib/python3.11/site-packages (from sweetviz) (3.1.2)\n",
      "Requirement already satisfied: importlib-resources>=1.2.0 in /opt/conda/lib/python3.11/site-packages (from sweetviz) (6.0.0)\n",
      "Collecting pydantic>=2 (from ydata-profiling)\n",
      "  Using cached http://jfrog-platform-artifactory.jfrog-system:8081/artifactory/api/pypi/pypi-remote/packages/packages/e2/2c/9906b7abc337b0250a5634de5396e2f3cb1b837af0616424c2225a65aa80/pydantic-2.5.1-py3-none-any.whl (381 kB)\n",
      "Requirement already satisfied: PyYAML<6.1,>=5.0.0 in /opt/conda/lib/python3.11/site-packages (from ydata-profiling) (6.0)\n",
      "Collecting visions[type_image_path]==0.7.5 (from ydata-profiling)\n"
     ]
    }
   ],
   "source": [
    "! pip install sweetviz ydata-profiling"
   ]
  },
  {
   "cell_type": "code",
   "execution_count": null,
   "id": "45baf03a-aad2-48e8-81f5-08d2d9992890",
   "metadata": {
    "tags": []
   },
   "outputs": [],
   "source": [
    "import sweetviz as sv\n",
    "import pandas as pd\n",
    "from ydata_profiling.utils.cache import cache_file\n",
    "\n",
    "\n",
    "file_name = cache_file(\n",
    "    \"pokemon.csv\",\n",
    "    \"https://raw.githubusercontent.com/bryanpaget/html/main/pokemon.csv\"\n",
    ")\n",
    "\n",
    "pokemon_df = pd.read_csv(file_name)\n",
    "\n",
    "my_report = sv.analyze(pokemon_df)\n",
    "my_report.show_notebook()"
   ]
  },
  {
   "cell_type": "code",
   "execution_count": null,
   "id": "18e5e585-f0dc-4ee5-aeb6-783a9ce7c897",
   "metadata": {},
   "outputs": [],
   "source": []
  }
 ],
 "metadata": {
  "kernelspec": {
   "display_name": "Python 3 (ipykernel)",
   "language": "python",
   "name": "python3"
  },
  "language_info": {
   "codemirror_mode": {
    "name": "ipython",
    "version": 3
   },
   "file_extension": ".py",
   "mimetype": "text/x-python",
   "name": "python",
   "nbconvert_exporter": "python",
   "pygments_lexer": "ipython3",
   "version": "3.11.4"
  }
 },
 "nbformat": 4,
 "nbformat_minor": 5
}
