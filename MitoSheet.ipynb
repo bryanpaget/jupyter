{
 "cells": [
  {
   "cell_type": "code",
   "execution_count": 3,
   "id": "e8f0432d-53f3-4672-8ffa-b226f734c8f0",
   "metadata": {
    "execution": {
     "iopub.execute_input": "2023-11-20T16:31:34.780190Z",
     "iopub.status.busy": "2023-11-20T16:31:34.779405Z",
     "iopub.status.idle": "2023-11-20T17:01:44.659042Z",
     "shell.execute_reply": "2023-11-20T17:01:44.658539Z",
     "shell.execute_reply.started": "2023-11-20T16:31:34.780172Z"
    },
    "tags": []
   },
   "outputs": [
    {
     "name": "stdout",
     "output_type": "stream",
     "text": [
      "Looking in indexes: http://jfrog-platform-artifactory.jfrog-system:8081/artifactory/api/pypi/pypi-remote/simple\n",
      "Collecting mitosheet\n",
      "  Using cached http://jfrog-platform-artifactory.jfrog-system:8081/artifactory/api/pypi/pypi-remote/packages/packages/6d/82/cf2ea244ed9ac10ead2dc807e04a3c599b73e22be795c627e51e2eb0af01/mitosheet-0.1.530-py2.py3-none-any.whl (4.7 MB)\n",
      "Requirement already satisfied: jupyterlab~=3.0 in /opt/conda/lib/python3.11/site-packages (from mitosheet) (3.6.6)\n",
      "Requirement already satisfied: pandas>=0.24.2 in /opt/conda/lib/python3.11/site-packages (from mitosheet) (2.0.3)\n",
      "Collecting analytics-python (from mitosheet)\n",
      "  Using cached http://jfrog-platform-artifactory.jfrog-system:8081/artifactory/api/pypi/pypi-remote/packages/packages/67/84/d41972eeddd7299bd2e2246a9be78abba46f2d255c0c435c64748cd99088/analytics_python-1.4.post1-py2.py3-none-any.whl (23 kB)\n",
      "Requirement already satisfied: plotly>=4.14.3 in /opt/conda/lib/python3.11/site-packages (from mitosheet) (5.18.0)\n",
      "Collecting chardet>=3.0.4 (from mitosheet)\n",
      "\u001b[33m  WARNING: Retrying (Retry(total=4, connect=None, read=None, redirect=None, status=None)) after connection broken by 'ReadTimeoutError(\"HTTPConnectionPool(host='jfrog-platform-artifactory.jfrog-system', port=8081): Read timed out. (read timeout=300.0)\")': /artifactory/api/pypi/pypi-remote/packages/packages/38/6f/f5fbc992a329ee4e0f288c1fe0e2ad9485ed064cac731ed2fe47dcc38cbf/chardet-5.2.0-py3-none-any.whl\u001b[0m\u001b[33m\n",
      "\u001b[0m\u001b[33m  WARNING: Retrying (Retry(total=3, connect=None, read=None, redirect=None, status=None)) after connection broken by 'ReadTimeoutError(\"HTTPConnectionPool(host='jfrog-platform-artifactory.jfrog-system', port=8081): Read timed out. (read timeout=300.0)\")': /artifactory/api/pypi/pypi-remote/packages/packages/38/6f/f5fbc992a329ee4e0f288c1fe0e2ad9485ed064cac731ed2fe47dcc38cbf/chardet-5.2.0-py3-none-any.whl\u001b[0m\u001b[33m\n",
      "\u001b[0m\u001b[33m  WARNING: Retrying (Retry(total=2, connect=None, read=None, redirect=None, status=None)) after connection broken by 'ReadTimeoutError(\"HTTPConnectionPool(host='jfrog-platform-artifactory.jfrog-system', port=8081): Read timed out. (read timeout=300.0)\")': /artifactory/api/pypi/pypi-remote/packages/packages/38/6f/f5fbc992a329ee4e0f288c1fe0e2ad9485ed064cac731ed2fe47dcc38cbf/chardet-5.2.0-py3-none-any.whl\u001b[0m\u001b[33m\n",
      "\u001b[0m\u001b[33m  WARNING: Retrying (Retry(total=1, connect=None, read=None, redirect=None, status=None)) after connection broken by 'ReadTimeoutError(\"HTTPConnectionPool(host='jfrog-platform-artifactory.jfrog-system', port=8081): Read timed out. (read timeout=300.0)\")': /artifactory/api/pypi/pypi-remote/packages/packages/38/6f/f5fbc992a329ee4e0f288c1fe0e2ad9485ed064cac731ed2fe47dcc38cbf/chardet-5.2.0-py3-none-any.whl\u001b[0m\u001b[33m\n",
      "\u001b[0m\u001b[33m  WARNING: Retrying (Retry(total=0, connect=None, read=None, redirect=None, status=None)) after connection broken by 'ReadTimeoutError(\"HTTPConnectionPool(host='jfrog-platform-artifactory.jfrog-system', port=8081): Read timed out. (read timeout=300.0)\")': /artifactory/api/pypi/pypi-remote/packages/packages/38/6f/f5fbc992a329ee4e0f288c1fe0e2ad9485ed064cac731ed2fe47dcc38cbf/chardet-5.2.0-py3-none-any.whl\u001b[0m\u001b[33m\n",
      "\u001b[0m\u001b[31mERROR: Could not install packages due to an OSError: HTTPConnectionPool(host='jfrog-platform-artifactory.jfrog-system', port=8081): Max retries exceeded with url: /artifactory/api/pypi/pypi-remote/packages/packages/38/6f/f5fbc992a329ee4e0f288c1fe0e2ad9485ed064cac731ed2fe47dcc38cbf/chardet-5.2.0-py3-none-any.whl (Caused by ReadTimeoutError(\"HTTPConnectionPool(host='jfrog-platform-artifactory.jfrog-system', port=8081): Read timed out. (read timeout=300.0)\"))\n",
      "\u001b[0m\u001b[31m\n",
      "\u001b[0mConfig option `kernel_spec_manager_class` not recognized by `InstallNBExtensionApp`.\n",
      "Traceback (most recent call last):\n",
      "  File \"/opt/conda/bin/jupyter-nbextension\", line 10, in <module>\n",
      "    sys.exit(main())\n",
      "             ^^^^^^\n",
      "  File \"/opt/conda/lib/python3.11/site-packages/jupyter_core/application.py\", line 285, in launch_instance\n",
      "    return super().launch_instance(argv=argv, **kwargs)\n",
      "           ^^^^^^^^^^^^^^^^^^^^^^^^^^^^^^^^^^^^^^^^^^^^\n",
      "  File \"/opt/conda/lib/python3.11/site-packages/traitlets/config/application.py\", line 1043, in launch_instance\n",
      "    app.start()\n",
      "  File \"/opt/conda/lib/python3.11/site-packages/notebook/nbextensions.py\", line 972, in start\n",
      "    super().start()\n",
      "  File \"/opt/conda/lib/python3.11/site-packages/jupyter_core/application.py\", line 274, in start\n",
      "    self.subapp.start()\n",
      "  File \"/opt/conda/lib/python3.11/site-packages/notebook/nbextensions.py\", line 702, in start\n",
      "    self.install_extensions()\n",
      "  File \"/opt/conda/lib/python3.11/site-packages/notebook/nbextensions.py\", line 675, in install_extensions\n",
      "    full_dests = install(self.extra_args[0],\n",
      "                 ^^^^^^^^^^^^^^^^^^^^^^^^^^^\n",
      "  File \"/opt/conda/lib/python3.11/site-packages/notebook/nbextensions.py\", line 203, in install_nbextension_python\n",
      "    m, nbexts = _get_nbextension_metadata(module)\n",
      "                ^^^^^^^^^^^^^^^^^^^^^^^^^^^^^^^^^\n",
      "  File \"/opt/conda/lib/python3.11/site-packages/notebook/nbextensions.py\", line 1107, in _get_nbextension_metadata\n",
      "    m = import_item(module)\n",
      "        ^^^^^^^^^^^^^^^^^^^\n",
      "  File \"/opt/conda/lib/python3.11/site-packages/traitlets/utils/importstring.py\", line 38, in import_item\n",
      "    return __import__(parts[0])\n",
      "           ^^^^^^^^^^^^^^^^^^^^\n",
      "ModuleNotFoundError: No module named 'mitosheet'\n",
      "Config option `kernel_spec_manager_class` not recognized by `EnableNBExtensionApp`.\n",
      "Traceback (most recent call last):\n",
      "  File \"/opt/conda/bin/jupyter-nbextension\", line 10, in <module>\n",
      "    sys.exit(main())\n",
      "             ^^^^^^\n",
      "  File \"/opt/conda/lib/python3.11/site-packages/jupyter_core/application.py\", line 285, in launch_instance\n",
      "    return super().launch_instance(argv=argv, **kwargs)\n",
      "           ^^^^^^^^^^^^^^^^^^^^^^^^^^^^^^^^^^^^^^^^^^^^\n",
      "  File \"/opt/conda/lib/python3.11/site-packages/traitlets/config/application.py\", line 1043, in launch_instance\n",
      "    app.start()\n",
      "  File \"/opt/conda/lib/python3.11/site-packages/notebook/nbextensions.py\", line 972, in start\n",
      "    super().start()\n",
      "  File \"/opt/conda/lib/python3.11/site-packages/jupyter_core/application.py\", line 274, in start\n",
      "    self.subapp.start()\n",
      "  File \"/opt/conda/lib/python3.11/site-packages/notebook/nbextensions.py\", line 882, in start\n",
      "    self.toggle_nbextension_python(self.extra_args[0])\n",
      "  File \"/opt/conda/lib/python3.11/site-packages/notebook/nbextensions.py\", line 855, in toggle_nbextension_python\n",
      "    return toggle(module,\n",
      "           ^^^^^^^^^^^^^^\n",
      "  File \"/opt/conda/lib/python3.11/site-packages/notebook/nbextensions.py\", line 470, in enable_nbextension_python\n",
      "    return _set_nbextension_state_python(True, module, user, sys_prefix,\n",
      "           ^^^^^^^^^^^^^^^^^^^^^^^^^^^^^^^^^^^^^^^^^^^^^^^^^^^^^^^^^^^^^\n",
      "  File \"/opt/conda/lib/python3.11/site-packages/notebook/nbextensions.py\", line 368, in _set_nbextension_state_python\n",
      "    m, nbexts = _get_nbextension_metadata(module)\n",
      "                ^^^^^^^^^^^^^^^^^^^^^^^^^^^^^^^^^\n",
      "  File \"/opt/conda/lib/python3.11/site-packages/notebook/nbextensions.py\", line 1107, in _get_nbextension_metadata\n",
      "    m = import_item(module)\n",
      "        ^^^^^^^^^^^^^^^^^^^\n",
      "  File \"/opt/conda/lib/python3.11/site-packages/traitlets/utils/importstring.py\", line 38, in import_item\n",
      "    return __import__(parts[0])\n",
      "           ^^^^^^^^^^^^^^^^^^^^\n",
      "ModuleNotFoundError: No module named 'mitosheet'\n"
     ]
    }
   ],
   "source": [
    "! pip install mitosheet\n",
    "! python -m jupyter nbextension install --py --user mitosheet\n",
    "! python -m jupyter nbextension enable --py --user mitosheet"
   ]
  },
  {
   "cell_type": "code",
   "execution_count": 4,
   "id": "5b1b4720-3beb-4bf8-b104-3ac6dde49d08",
   "metadata": {
    "execution": {
     "iopub.execute_input": "2023-11-20T17:01:44.660078Z",
     "iopub.status.busy": "2023-11-20T17:01:44.659931Z",
     "iopub.status.idle": "2023-11-20T17:01:44.673461Z",
     "shell.execute_reply": "2023-11-20T17:01:44.673004Z",
     "shell.execute_reply.started": "2023-11-20T17:01:44.660061Z"
    },
    "tags": []
   },
   "outputs": [
    {
     "ename": "ModuleNotFoundError",
     "evalue": "No module named 'mitosheet'",
     "output_type": "error",
     "traceback": [
      "\u001b[0;31m---------------------------------------------------------------------------\u001b[0m",
      "\u001b[0;31mModuleNotFoundError\u001b[0m                       Traceback (most recent call last)",
      "Cell \u001b[0;32mIn[4], line 1\u001b[0m\n\u001b[0;32m----> 1\u001b[0m \u001b[38;5;28;01mimport\u001b[39;00m \u001b[38;5;21;01mmitosheet\u001b[39;00m\n\u001b[1;32m      2\u001b[0m \u001b[38;5;28;01mfrom\u001b[39;00m \u001b[38;5;21;01mydata_profiling\u001b[39;00m\u001b[38;5;21;01m.\u001b[39;00m\u001b[38;5;21;01mutils\u001b[39;00m\u001b[38;5;21;01m.\u001b[39;00m\u001b[38;5;21;01mcache\u001b[39;00m \u001b[38;5;28;01mimport\u001b[39;00m cache_file\n\u001b[1;32m      5\u001b[0m file_name \u001b[38;5;241m=\u001b[39m cache_file(\n\u001b[1;32m      6\u001b[0m     \u001b[38;5;124m\"\u001b[39m\u001b[38;5;124mpokemon.csv\u001b[39m\u001b[38;5;124m\"\u001b[39m,\n\u001b[1;32m      7\u001b[0m     \u001b[38;5;124m\"\u001b[39m\u001b[38;5;124mhttps://raw.githubusercontent.com/bryanpaget/html/main/pokemon.csv\u001b[39m\u001b[38;5;124m\"\u001b[39m\n\u001b[1;32m      8\u001b[0m )\n",
      "\u001b[0;31mModuleNotFoundError\u001b[0m: No module named 'mitosheet'"
     ]
    }
   ],
   "source": [
    "import mitosheet\n",
    "from ydata_profiling.utils.cache import cache_file\n",
    "\n",
    "\n",
    "file_name = cache_file(\n",
    "    \"pokemon.csv\",\n",
    "    \"https://raw.githubusercontent.com/bryanpaget/html/main/pokemon.csv\"\n",
    ")\n",
    "\n",
    "pokemon_df = pd.read_csv(file_name)\n",
    "\n",
    "mitosheet.sheet(pokemon_df) # Change sales_data to the name of your dataframe"
   ]
  },
  {
   "cell_type": "code",
   "execution_count": null,
   "id": "1146b607-3078-4c7e-a83f-0133a7595776",
   "metadata": {},
   "outputs": [],
   "source": []
  }
 ],
 "metadata": {
  "kernelspec": {
   "display_name": "Python 3 (ipykernel)",
   "language": "python",
   "name": "python3"
  },
  "language_info": {
   "codemirror_mode": {
    "name": "ipython",
    "version": 3
   },
   "file_extension": ".py",
   "mimetype": "text/x-python",
   "name": "python",
   "nbconvert_exporter": "python",
   "pygments_lexer": "ipython3",
   "version": "3.11.4"
  }
 },
 "nbformat": 4,
 "nbformat_minor": 5
}
